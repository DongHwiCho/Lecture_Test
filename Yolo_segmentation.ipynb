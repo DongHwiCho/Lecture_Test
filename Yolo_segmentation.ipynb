{
  "nbformat": 4,
  "nbformat_minor": 0,
  "metadata": {
    "colab": {
      "provenance": []
    },
    "kernelspec": {
      "name": "python3",
      "display_name": "Python 3"
    },
    "language_info": {
      "name": "python"
    }
  },
  "cells": [
    {
      "cell_type": "markdown",
      "source": [
        "# Yolo Segmentation"
      ],
      "metadata": {
        "id": "dfNw7pHL2cmt"
      }
    },
    {
      "cell_type": "markdown",
      "source": [
        "### Ultralytics Yolo Package Download"
      ],
      "metadata": {
        "id": "sDwp51mI2iBQ"
      }
    },
    {
      "cell_type": "code",
      "execution_count": null,
      "metadata": {
        "id": "6zNOqpTeumKp"
      },
      "outputs": [],
      "source": [
        "!pip install ultralytics"
      ]
    },
    {
      "cell_type": "markdown",
      "source": [
        "### Run Yolo Segmantaion"
      ],
      "metadata": {
        "id": "V2YU73dD2q8s"
      }
    },
    {
      "cell_type": "code",
      "source": [
        "# import YOLO\n",
        "from ultralytics import YOLO"
      ],
      "metadata": {
        "id": "xOhvq6uYuwsI"
      },
      "execution_count": null,
      "outputs": []
    },
    {
      "cell_type": "code",
      "source": [
        "# Add Model - Using Segmentaion Model\n",
        "model = YOLO('yolov8n-seg.pt')"
      ],
      "metadata": {
        "id": "kTknior4vABH"
      },
      "execution_count": null,
      "outputs": []
    },
    {
      "cell_type": "code",
      "source": [
        "# Upload your Image / Video\n",
        "from google.colab import files\n",
        "\n",
        "myfiles = files.upload()"
      ],
      "metadata": {
        "id": "dVb8Oj9gyM_Y"
      },
      "execution_count": null,
      "outputs": []
    },
    {
      "cell_type": "code",
      "source": [
        "# Predict Image\n",
        "results = model(list(myfiles.keys())[0], save=True, device=\"cpu\")"
      ],
      "metadata": {
        "id": "f7GutnCSvCj9"
      },
      "execution_count": null,
      "outputs": []
    },
    {
      "cell_type": "code",
      "source": [],
      "metadata": {
        "id": "dJCZ9Ms2zcKc"
      },
      "execution_count": null,
      "outputs": []
    }
  ]
}